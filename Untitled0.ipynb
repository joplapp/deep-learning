{
 "metadata": {
  "name": "",
  "signature": "sha256:e94aec2a800ff456ee69cd988ce42a4ddcfa6b3d414fd913aa68628d6f427535"
 },
 "nbformat": 3,
 "nbformat_minor": 0,
 "worksheets": []
}